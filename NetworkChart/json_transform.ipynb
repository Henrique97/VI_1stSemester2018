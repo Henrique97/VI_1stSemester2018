{
 "cells": [
  {
   "cell_type": "code",
   "execution_count": 27,
   "metadata": {},
   "outputs": [],
   "source": [
    "import networkx as nx\n",
    "import pandas as pd\n",
    "from matplotlib.pylab import plt\n",
    "import numpy as np\n",
    "import json\n",
    "from networkx.readwrite import json_graph\n",
    " \n",
    "G = nx.Graph()\n",
    " \n",
    "# Read csv for nodes and edges using pandas:\n",
    "countries = pd.read_csv(\"countries.csv\")\n",
    "tasters = pd.read_csv(\"tasters.csv\")\n",
    "varieties = pd.read_csv(\"top_var_taster.csv\")['winery'].unique()\n",
    "varieties = pd.DataFrame(data = varieties, columns = ['name'])\n",
    "\n",
    "temp = pd.DataFrame(data = np.zeros(countries.shape[0]), columns = ['group'])\n",
    "countries = pd.concat([countries, temp], axis = 1)\n",
    "\n",
    "temp = pd.DataFrame(data = np.ones(tasters.shape[0]), columns = ['group'])\n",
    "tasters = pd.concat([tasters, temp], axis = 1)\n",
    "\n",
    "temp = pd.DataFrame(data = np.ones(varieties.shape[0])+1, columns = ['group'])\n",
    "varieties = pd.concat([varieties, temp], axis = 1)\n",
    "\n",
    "nodes = pd.concat([countries, tasters, varieties])\n",
    "# Dataframe to list:\n",
    "nodes_list = nodes.values.tolist()\n",
    "\n",
    "\n",
    "taster_country = pd.read_csv(\"score_by_country_taster.csv\")\n",
    "taster_variety = pd.read_csv(\"top_var_taster.csv\")\n",
    "\n",
    "edges_list = taster_country.values.tolist()\n",
    " \n",
    "# Import id, name, and group into node of Networkx:\n",
    "for i in nodes_list:\n",
    "    G.add_node(i[0].strip(), group=i[1])\n",
    " \n",
    "# Import source, target, and value into edges of Networkx:\n",
    "for i in edges_list:\n",
    "    G.add_edge(i[0].strip(), i[1].strip(), value=i[2])\n",
    "    \n",
    "edges_list = taster_variety.values.tolist()\n",
    "# Import source, target, and value into edges of Networkx:\n",
    "for i in edges_list:\n",
    "    G.add_edge(i[0].strip(), i[1].strip(), value=i[2])\n",
    "\n",
    "j = json_graph.node_link_data(G)\n",
    " \n",
    "js = json.dumps(j, ensure_ascii=True, indent=2)\n",
    "with open(\"node-link-value.json\", \"w\") as file:\n",
    "     file.write(js)"
   ]
  },
  {
   "cell_type": "code",
   "execution_count": 26,
   "metadata": {},
   "outputs": [
    {
     "data": {
      "text/plain": [
       "array(['Kendall-Jackson                ',\n",
       "       'V. Sattui                      ',\n",
       "       'Williams Selyem                ',\n",
       "       'Concha y Toro                  ',\n",
       "       'Santa Ema                      ',\n",
       "       'Siduri                         ',\n",
       "       'Feudi di San Gregorio          ',\n",
       "       'Fess Parker                    ',\n",
       "       'Foxen                          ',\n",
       "       'Gary Farrell                   ',\n",
       "       'Robert Mondavi                 ',\n",
       "       'Testarossa                     ',\n",
       "       'Chehalem                       ',\n",
       "       'Georges Duboeuf                ',\n",
       "       'Montes                         ',\n",
       "       'Trapiche                       ',\n",
       "       'Undurraga                      ',\n",
       "       'Chateau Ste. Michelle          ',\n",
       "       'Columbia Crest                 ',\n",
       "       'Louis Latour                   ',\n",
       "       'Maryhill                       ',\n",
       "       'Albert Bichot                  ',\n",
       "       'Casa Santos Lima               ',\n",
       "       'Chanson Père et Fils          ',\n",
       "       'DFJ Vinhos                     ',\n",
       "       'Jean-Luc and Paul Aegerter     ',\n",
       "       'Louis Jadot                    ',\n",
       "       'Wines & Winemakers             ',\n",
       "       'Iron Horse                     ',\n",
       "       'Lynmar                         '], dtype=object)"
      ]
     },
     "execution_count": 26,
     "metadata": {},
     "output_type": "execute_result"
    }
   ],
   "source": [
    "data = pd.read_csv(\"top_var_taster.csv\")\n",
    "data['winery'].unique()"
   ]
  }
 ],
 "metadata": {
  "kernelspec": {
   "display_name": "Python 3",
   "language": "python",
   "name": "python3"
  },
  "language_info": {
   "codemirror_mode": {
    "name": "ipython",
    "version": 3
   },
   "file_extension": ".py",
   "mimetype": "text/x-python",
   "name": "python",
   "nbconvert_exporter": "python",
   "pygments_lexer": "ipython3",
   "version": "3.6.5"
  }
 },
 "nbformat": 4,
 "nbformat_minor": 2
}
